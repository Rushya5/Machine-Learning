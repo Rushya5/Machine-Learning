{
  "nbformat": 4,
  "nbformat_minor": 0,
  "metadata": {
    "colab": {
      "provenance": []
    },
    "kernelspec": {
      "name": "python3",
      "display_name": "Python 3"
    },
    "language_info": {
      "name": "python"
    }
  },
  "cells": [
    {
      "cell_type": "code",
      "execution_count": 8,
      "metadata": {
        "colab": {
          "base_uri": "https://localhost:8080/"
        },
        "id": "r3Fx5ZT8WbmC",
        "outputId": "a94bd0f5-b4f7-4fa9-da44-0e9b897afe23"
      },
      "outputs": [
        {
          "output_type": "stream",
          "name": "stdout",
          "text": [
            "Date       object\n",
            "Month      object\n",
            "Day        object\n",
            "Price     float64\n",
            "Open      float64\n",
            "High      float64\n",
            "Low       float64\n",
            "Volume     object\n",
            "Chg%      float64\n",
            "dtype: object\n",
            "Training Predictions (first 5): [ 7.58395417e-04 -6.22262095e-05  2.51230120e-04  8.22751620e-04\n",
            "  1.58830227e-03]\n",
            "Testing Predictions (first 5): [0.00208714 0.00483013 0.00125724 0.00278193 0.00088743]\n"
          ]
        }
      ],
      "source": [
        "import pandas as pd\n",
        "import numpy as np\n",
        "from sklearn.model_selection import train_test_split\n",
        "from sklearn.linear_model import LinearRegression\n",
        "\n",
        "# Load dataset\n",
        "df = pd.read_csv(\"IRCTC_Only_Data.csv\")\n",
        "\n",
        "# Check for non-numeric columns\n",
        "print(df.dtypes)\n",
        "\n",
        "# Drop non-numeric columns (e.g., Date column)\n",
        "df = df.select_dtypes(include=[np.number])\n",
        "\n",
        "# Ensure there are still enough columns left for training\n",
        "if df.shape[1] < 2:\n",
        "    raise ValueError(\"Not enough numerical columns for regression after removing non-numeric columns.\")\n",
        "\n",
        "# Selecting one numerical feature and target\n",
        "X = df.iloc[:, [0]]  # First numerical column as feature\n",
        "y = df.iloc[:, -1]   # Last numerical column as target\n",
        "\n",
        "# Splitting dataset\n",
        "X_train, X_test, y_train, y_test = train_test_split(X, y, test_size=0.2, random_state=42)\n",
        "\n",
        "# Train Linear Regression Model\n",
        "reg = LinearRegression().fit(X_train, y_train)\n",
        "\n",
        "# Predictions\n",
        "y_train_pred = reg.predict(X_train)\n",
        "y_test_pred = reg.predict(X_test)\n",
        "\n",
        "# Display results\n",
        "print(\"Training Predictions (first 5):\", y_train_pred[:5])\n",
        "print(\"Testing Predictions (first 5):\", y_test_pred[:5])\n"
      ]
    },
    {
      "cell_type": "code",
      "source": [
        "import pandas as pd\n",
        "from sklearn.model_selection import train_test_split\n",
        "from sklearn.linear_model import LinearRegression\n",
        "from sklearn.metrics import mean_squared_error, mean_absolute_percentage_error, r2_score\n",
        "import numpy as np\n",
        "\n",
        "# Load dataset\n",
        "file_path = r\"IRCTC_Only_Data.csv\"\n",
        "df = pd.read_csv(file_path)\n",
        "\n",
        "# Display first few rows\n",
        "print(df.head())\n",
        "\n",
        "# Check for missing values\n",
        "print(df.isnull().sum())\n",
        "\n",
        "# Selecting multiple numerical features (update with actual column names)\n",
        "df = df.select_dtypes(include=[np.number])  # Keep only numeric columns\n",
        "\n",
        "if df.shape[1] < 2:\n",
        "    raise ValueError(\"Not enough numerical columns for regression.\")\n",
        "\n",
        "X = df.iloc[:, :-1]  # All but the last column as features\n",
        "y = df.iloc[:, -1]   # Last column as target\n",
        "\n",
        "# Splitting the dataset (80% training, 20% testing)\n",
        "X_train, X_test, y_train, y_test = train_test_split(X, y, test_size=0.2, random_state=42)\n",
        "\n",
        "# Train the model\n",
        "reg = LinearRegression().fit(X_train, y_train)\n",
        "\n",
        "# Make predictions\n",
        "y_train_pred = reg.predict(X_train)\n",
        "y_test_pred = reg.predict(X_test)\n",
        "\n",
        "# Compute metrics\n",
        "mse_train = mean_squared_error(y_train, y_train_pred)\n",
        "rmse_train = np.sqrt(mse_train)\n",
        "mape_train = mean_absolute_percentage_error(y_train, y_train_pred)\n",
        "r2_train = r2_score(y_train, y_train_pred)\n",
        "\n",
        "mse_test = mean_squared_error(y_test, y_test_pred)\n",
        "rmse_test = np.sqrt(mse_test)\n",
        "mape_test = mean_absolute_percentage_error(y_test, y_test_pred)\n",
        "r2_test = r2_score(y_test, y_test_pred)\n",
        "\n",
        "# Print results\n",
        "print(f\"Train - MSE: {mse_train}, RMSE: {rmse_train}, MAPE: {mape_train}, R²: {r2_train}\")\n",
        "print(f\"Test - MSE: {mse_test}, RMSE: {rmse_test}, MAPE: {mape_test}, R²: {r2_test}\")\n"
      ],
      "metadata": {
        "colab": {
          "base_uri": "https://localhost:8080/"
        },
        "id": "KFMpZt-RYH4Z",
        "outputId": "2d7f6091-0762-4ad7-d132-08b6fd903d3d"
      },
      "execution_count": 9,
      "outputs": [
        {
          "output_type": "stream",
          "name": "stdout",
          "text": [
            "           Date Month  Day    Price     Open     High      Low   Volume  \\\n",
            "0  Jun 29, 2021   Jun  Tue  2081.85  2092.00  2126.90  2065.05    1.67M   \n",
            "1  Jun 28, 2021   Jun  Mon  2077.75  2084.00  2112.45  2068.40  707.73K   \n",
            "2  Jun 25, 2021   Jun  Fri  2068.85  2084.35  2088.50  2053.10  475.82K   \n",
            "3  Jun 24, 2021   Jun  Thu  2072.95  2098.00  2098.00  2066.00  541.51K   \n",
            "4  Jun 23, 2021   Jun  Wed  2078.25  2102.00  2111.40  2072.00  809.62K   \n",
            "\n",
            "     Chg%  \n",
            "0  0.0020  \n",
            "1  0.0043  \n",
            "2 -0.0020  \n",
            "3 -0.0026  \n",
            "4 -0.0023  \n",
            "Date      0\n",
            "Month     0\n",
            "Day       0\n",
            "Price     0\n",
            "Open      0\n",
            "High      0\n",
            "Low       0\n",
            "Volume    0\n",
            "Chg%      0\n",
            "dtype: int64\n",
            "Train - MSE: 0.00016029562825525093, RMSE: 0.012660790980631935, MAPE: 86729111305.72256, R²: 0.6825093221256643\n",
            "Test - MSE: 7.570134878405303e-05, RMSE: 0.00870065220452197, MAPE: 1.7462170486037891, R²: 0.8469135040630839\n"
          ]
        }
      ]
    },
    {
      "cell_type": "code",
      "source": [
        "import pandas as pd\n",
        "from sklearn.model_selection import train_test_split\n",
        "from sklearn.linear_model import LinearRegression\n",
        "from sklearn.metrics import mean_squared_error, mean_absolute_percentage_error, r2_score\n",
        "import numpy as np\n",
        "\n",
        "# Load dataset\n",
        "file_path = r\"IRCTC_Only_Data.csv\"\n",
        "df = pd.read_csv(file_path)\n",
        "\n",
        "# Keep only numeric columns\n",
        "df = df.select_dtypes(include=[np.number])\n",
        "\n",
        "if df.shape[1] < 2:\n",
        "    raise ValueError(\"Not enough numerical columns for regression.\")\n",
        "\n",
        "# Selecting all attributes (features) except the last column as the target\n",
        "X = df.iloc[:, :-1]\n",
        "y = df.iloc[:, -1]\n",
        "\n",
        "# Splitting the dataset (80% training, 20% testing)\n",
        "X_train, X_test, y_train, y_test = train_test_split(X, y, test_size=0.2, random_state=42)\n",
        "\n",
        "# Train Linear Regression Model with multiple attributes\n",
        "reg = LinearRegression().fit(X_train, y_train)\n",
        "\n",
        "# Make predictions\n",
        "y_train_pred = reg.predict(X_train)\n",
        "y_test_pred = reg.predict(X_test)\n",
        "\n",
        "# Compute metrics\n",
        "def evaluate_model(y_true, y_pred, dataset_name):\n",
        "    mse = mean_squared_error(y_true, y_pred)\n",
        "    rmse = np.sqrt(mse)\n",
        "    mape = mean_absolute_percentage_error(y_true, y_pred)\n",
        "    r2 = r2_score(y_true, y_pred)\n",
        "    print(f\"{dataset_name} - MSE: {mse}, RMSE: {rmse}, MAPE: {mape}, R²: {r2}\")\n",
        "\n",
        "# Evaluate model on both train and test sets\n",
        "evaluate_model(y_train, y_train_pred, \"Train Set (Multiple Attributes)\")\n",
        "evaluate_model(y_test, y_test_pred, \"Test Set (Multiple Attributes)\")\n"
      ],
      "metadata": {
        "colab": {
          "base_uri": "https://localhost:8080/"
        },
        "id": "n_yvwzqnYXUv",
        "outputId": "265d960b-6042-4020-e7e8-a04275bc9283"
      },
      "execution_count": 10,
      "outputs": [
        {
          "output_type": "stream",
          "name": "stdout",
          "text": [
            "Train Set (Multiple Attributes) - MSE: 0.00016029562825525093, RMSE: 0.012660790980631935, MAPE: 86729111305.72256, R²: 0.6825093221256643\n",
            "Test Set (Multiple Attributes) - MSE: 7.570134878405303e-05, RMSE: 0.00870065220452197, MAPE: 1.7462170486037891, R²: 0.8469135040630839\n"
          ]
        }
      ]
    },
    {
      "cell_type": "code",
      "source": [
        "import pandas as pd\n",
        "import numpy as np\n",
        "from sklearn.cluster import KMeans\n",
        "from sklearn.model_selection import train_test_split\n",
        "\n",
        "file_path = r\"IRCTC_Only_Data.csv\"\n",
        "df = pd.read_csv(file_path)\n",
        "\n",
        "df = df.select_dtypes(include=[np.number])\n",
        "\n",
        "if df.shape[1] < 2:\n",
        "    raise ValueError(\"Not enough numerical columns for clustering.\")\n",
        "\n",
        "X = df.iloc[:, :-1]\n",
        "\n",
        "X_train, X_test = train_test_split(X, test_size=0.2, random_state=42)\n",
        "\n",
        "kmeans = KMeans(n_clusters=2, random_state=0, n_init=\"auto\").fit(X_train)\n",
        "\n",
        "print(\"Cluster Labels:\", kmeans.labels_)\n",
        "print(\"Cluster Centers:\\n\", kmeans.cluster_centers_)\n"
      ],
      "metadata": {
        "colab": {
          "base_uri": "https://localhost:8080/"
        },
        "id": "3BwQCp7QYj6j",
        "outputId": "74eaec45-d5d8-4d44-8dfd-4165fa06a098"
      },
      "execution_count": 11,
      "outputs": [
        {
          "output_type": "stream",
          "name": "stdout",
          "text": [
            "Cluster Labels: [1 1 1 1 1 0 1 1 1 1 1 1 1 0 1 1 1 1 1 1 0 1 1 0 1 0 0 1 0 0 0 0 1 1 1 0 1\n",
            " 1 1 1 0 0 0 0 0 1 0 0 1 1 1 1 1 1 0 0 1 1 0 1 0 1 1 1 0 0 0 0 0 1 1 1 1 0\n",
            " 0 1 1 1 0 0 1 1 0 1 0 1 0 1 0 1 1 0 0 1 1 1 1 0 1 0 0 1 0 1 1 0 1 1 0 0 1\n",
            " 0 0 1 1 0 1 1 0 1 0 1 1 1 1 1 1 0 0 1 0 1 1 0 0 1 1 0 0 0 0 1 1 0 1 0 1 1\n",
            " 1 1 0 0 1 0 1 1 1 1 1 1 1 1 0 0 0 0 0 1 1 1 1 1 1 0 1 1 0 1 1 1 1 1 1 1 0\n",
            " 1 0 1 1 1 1 0 1 0 1 0 0 1 1]\n",
            "Cluster Centers:\n",
            " [[1826.87368421 1828.24671053 1860.15197368 1796.76776316]\n",
            " [1388.7995935  1389.25121951 1408.77764228 1373.57764228]]\n"
          ]
        }
      ]
    },
    {
      "cell_type": "code",
      "source": [
        "import pandas as pd\n",
        "import numpy as np\n",
        "from sklearn.cluster import KMeans\n",
        "from sklearn.model_selection import train_test_split\n",
        "from sklearn.metrics import silhouette_score, calinski_harabasz_score, davies_bouldin_score\n",
        "\n",
        "file_path = r\"IRCTC_Only_Data.csv\"\n",
        "df = pd.read_csv(file_path)\n",
        "\n",
        "df = df.select_dtypes(include=[np.number])\n",
        "\n",
        "if df.shape[1] < 2:\n",
        "    raise ValueError(\"Not enough numerical columns for clustering.\")\n",
        "\n",
        "X = df.iloc[:, :-1]\n",
        "\n",
        "X_train, X_test = train_test_split(X, test_size=0.2, random_state=42)\n",
        "\n",
        "kmeans = KMeans(n_clusters=2, random_state=42, n_init=\"auto\").fit(X_train)\n",
        "\n",
        "print(\"Silhouette Score:\", silhouette_score(X_train, kmeans.labels_))\n",
        "print(\"Calinski-Harabasz Score:\", calinski_harabasz_score(X_train, kmeans.labels_))\n",
        "print(\"Davies-Bouldin Score:\", davies_bouldin_score(X_train, kmeans.labels_))\n"
      ],
      "metadata": {
        "colab": {
          "base_uri": "https://localhost:8080/"
        },
        "id": "ULQ7OLz8YnTH",
        "outputId": "d0bf2412-2bed-4768-bd71-7e31c0345585"
      },
      "execution_count": 12,
      "outputs": [
        {
          "output_type": "stream",
          "name": "stdout",
          "text": [
            "Silhouette Score: 0.7268530826433214\n",
            "Calinski-Harabasz Score: 787.5705085594259\n",
            "Davies-Bouldin Score: 0.4170255142694813\n"
          ]
        }
      ]
    },
    {
      "cell_type": "code",
      "source": [
        "import pandas as pd\n",
        "import numpy as np\n",
        "import matplotlib.pyplot as plt\n",
        "from sklearn.cluster import KMeans\n",
        "from sklearn.model_selection import train_test_split\n",
        "from sklearn.metrics import silhouette_score, calinski_harabasz_score, davies_bouldin_score\n",
        "\n",
        "file_path = r\"IRCTC_Only_Data.csv\"\n",
        "df = pd.read_csv(file_path)\n",
        "\n",
        "df = df.select_dtypes(include=[np.number])\n",
        "\n",
        "if df.shape[1] < 2:\n",
        "    raise ValueError(\"Not enough numerical columns for clustering.\")\n",
        "\n",
        "X = df.iloc[:, :-1]\n",
        "\n",
        "X_train, X_test = train_test_split(X, test_size=0.2, random_state=42)\n",
        "\n",
        "k_values = range(2, 10)\n",
        "sil_scores, ch_scores, db_scores = [], [], []\n",
        "\n",
        "for k in k_values:\n",
        "    kmeans = KMeans(n_clusters=k, random_state=42, n_init=\"auto\").fit(X_train)\n",
        "    sil_scores.append(silhouette_score(X_train, kmeans.labels_))\n",
        "    ch_scores.append(calinski_harabasz_score(X_train, kmeans.labels_))\n",
        "    db_scores.append(davies_bouldin_score(X_train, kmeans.labels_))\n",
        "\n",
        "plt.figure(figsize=(10, 5))\n",
        "plt.plot(k_values, sil_scores, label='Silhouette Score')\n",
        "plt.plot(k_values, ch_scores, label='Calinski-Harabasz Score')\n",
        "plt.plot(k_values, db_scores, label='Davies-Bouldin Score')\n",
        "plt.xlabel('Number of Clusters (k)')\n",
        "plt.ylabel('Score')\n",
        "plt.legend()\n",
        "plt.show()\n"
      ],
      "metadata": {
        "colab": {
          "base_uri": "https://localhost:8080/",
          "height": 465
        },
        "id": "GuKS4B-oYqmU",
        "outputId": "02dde27e-b766-4e34-a57d-7172e7640025"
      },
      "execution_count": 13,
      "outputs": [
        {
          "output_type": "display_data",
          "data": {
            "text/plain": [
              "<Figure size 1000x500 with 1 Axes>"
            ],
            "image/png": "[encoded data removed]"
          },
          "metadata": {}
        }
      ]
    },
    {
      "cell_type": "code",
      "source": [
        "import pandas as pd\n",
        "import numpy as np\n",
        "import matplotlib.pyplot as plt\n",
        "from sklearn.cluster import KMeans\n",
        "from sklearn.model_selection import train_test_split\n",
        "\n",
        "file_path = r\"IRCTC_Only_Data.csv\"\n",
        "df = pd.read_csv(file_path)\n",
        "\n",
        "df = df.select_dtypes(include=[np.number])\n",
        "\n",
        "if df.shape[1] < 2:\n",
        "    raise ValueError(\"Not enough numerical columns for clustering.\")\n",
        "\n",
        "X = df.iloc[:, :-1]\n",
        "\n",
        "X_train, X_test = train_test_split(X, test_size=0.2, random_state=42)\n",
        "\n",
        "distortions = []\n",
        "\n",
        "for k in range(2, 20):\n",
        "    kmeans = KMeans(n_clusters=k, random_state=42, n_init=\"auto\").fit(X_train)\n",
        "    distortions.append(kmeans.inertia_)\n",
        "\n",
        "plt.figure(figsize=(8, 5))\n",
        "plt.plot(range(2, 20), distortions, marker='o')\n",
        "plt.xlabel('Number of Clusters (k)')\n",
        "plt.ylabel('Inertia')\n",
        "plt.title('Elbow Method for Optimal k')\n",
        "plt.show()\n"
      ],
      "metadata": {
        "colab": {
          "base_uri": "https://localhost:8080/",
          "height": 487
        },
        "id": "YOkJBh6vYuDx",
        "outputId": "17be54de-d145-4df3-a33e-2d126a12f00e"
      },
      "execution_count": 14,
      "outputs": [
        {
          "output_type": "display_data",
          "data": {
            "text/plain": [
              "<Figure size 800x500 with 1 Axes>"
            ],
            "image/png": "[encoded data removed]"
          },
          "metadata": {}
        }
      ]
    }
  ]
}